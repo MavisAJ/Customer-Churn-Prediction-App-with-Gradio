{
 "cells": [
  {
   "cell_type": "markdown",
   "id": "8b55149d",
   "metadata": {},
   "source": [
    "## Customer Churning\n",
    "## Hypothesis\n",
    "### 1.Increases in monthly charges causes customers on the various payment plans to churn.\n",
    "### 2. Males receive better services in terms of support and charges hence influence their retention.\n",
    "### 3. Customers with multiple lines are less likely to churn  \n",
    "\n",
    "\n",
    "\n",
    "\n",
    "\n",
    "## Exploratory Data Analysis Questions\n",
    "### 1.Which Internet service customers churn the most.\n",
    "### 2.Does customers receiving tech support influence their retention even if charges increases.\n",
    "### 3.Does customers with partners and dependants churn more than those with no partners and no dependants.\n",
    "### 4.Does increase in charges on products influence customer churn.If yes by what  percentage caused customers to churn more.\n",
    "### 5.Does increase in monthly charges cause both senior citizens and non-senior citizens to churn.\n",
    "### 6.Does longer contracts with customers increase their retention.\n",
    "### 7. Are customers with longer tenures with the company are less likely to churn.\n",
    "### 8. How likely are customers with paperless billing more likely to churn to custmers with non-paperless billings."
   ]
  },
  {
   "cell_type": "markdown",
   "id": "0734b4b2",
   "metadata": {},
   "source": [
    "### Data and Libraries Importation"
   ]
  },
  {
   "cell_type": "code",
   "execution_count": 1,
   "id": "4f65ee7d",
   "metadata": {},
   "outputs": [
    {
     "ename": "ModuleNotFoundError",
     "evalue": "No module named 'pandas_profiling'",
     "output_type": "error",
     "traceback": [
      "\u001b[1;31m---------------------------------------------------------------------------\u001b[0m",
      "\u001b[1;31mModuleNotFoundError\u001b[0m                       Traceback (most recent call last)",
      "\u001b[1;32m~\\AppData\\Local\\Temp\\ipykernel_13592\\3347866896.py\u001b[0m in \u001b[0;36m<module>\u001b[1;34m\u001b[0m\n\u001b[0;32m      8\u001b[0m \u001b[1;32mimport\u001b[0m \u001b[0mplotly\u001b[0m\u001b[1;33m.\u001b[0m\u001b[0mgraph_objects\u001b[0m \u001b[1;32mas\u001b[0m \u001b[0mgo\u001b[0m\u001b[1;33m\u001b[0m\u001b[1;33m\u001b[0m\u001b[0m\n\u001b[0;32m      9\u001b[0m \u001b[0mwarnings\u001b[0m\u001b[1;33m.\u001b[0m\u001b[0mfilterwarnings\u001b[0m\u001b[1;33m(\u001b[0m\u001b[1;34m'ignore'\u001b[0m\u001b[1;33m)\u001b[0m\u001b[1;33m\u001b[0m\u001b[1;33m\u001b[0m\u001b[0m\n\u001b[1;32m---> 10\u001b[1;33m \u001b[1;32mfrom\u001b[0m \u001b[0mpandas_profiling\u001b[0m \u001b[1;32mimport\u001b[0m \u001b[0mProfileReport\u001b[0m\u001b[1;33m\u001b[0m\u001b[1;33m\u001b[0m\u001b[0m\n\u001b[0m\u001b[0;32m     11\u001b[0m \u001b[1;32mfrom\u001b[0m \u001b[0msklearn\u001b[0m \u001b[1;32mimport\u001b[0m \u001b[0mpreprocessing\u001b[0m\u001b[1;33m\u001b[0m\u001b[1;33m\u001b[0m\u001b[0m\n\u001b[0;32m     12\u001b[0m \u001b[1;32mfrom\u001b[0m \u001b[0msklearn\u001b[0m\u001b[1;33m.\u001b[0m\u001b[0mmodel_selection\u001b[0m \u001b[1;32mimport\u001b[0m \u001b[0mtrain_test_split\u001b[0m\u001b[1;33m\u001b[0m\u001b[1;33m\u001b[0m\u001b[0m\n",
      "\u001b[1;31mModuleNotFoundError\u001b[0m: No module named 'pandas_profiling'"
     ]
    }
   ],
   "source": [
    "import pandas as pd\n",
    "import numpy as np\n",
    "import matplotlib.pyplot as plt\n",
    "import matplotlib.patches as mpathes\n",
    "import seaborn as sns\n",
    "import plotly.express as px\n",
    "import warnings\n",
    "import plotly.graph_objects as go\n",
    "warnings.filterwarnings('ignore')\n",
    "from pandas_profiling import ProfileReport\n",
    "from sklearn import preprocessing\n",
    "from sklearn.model_selection import train_test_split\n",
    "from sklearn.preprocessing import MinMaxScaler\n",
    "\n",
    "from sklearn.metrics import mean_squared_error\n",
    "from sklearn.model_selection import cross_val_score\n",
    "from sklearn.model_selection import train_test_split\n",
    "from sklearn.pipeline import make_pipeline\n",
    "from sklearn.pipeline import Pipeline\n",
    "from sklearn.preprocessing import MinMaxScaler\n",
    "from sklearn.preprocessing import OneHotEncoder\n",
    "from sklearn.preprocessing import StandardScaler\n",
    "from sklearn.tree import DecisionTreeRegressor\n",
    "from sklearn.metrics import mean_squared_log_error\n",
    "from sklearn.linear_model import LogisticRegression\n",
    "from sklearn.metrics import confusion_matrix\n",
    "from sklearn.metrics import *\n",
    "from sklearn.model_selection import train_test_split, cross_val_score\n",
    "from sklearn.metrics import fbeta_score\n",
    "from sklearn.ensemble import RandomForestClassifier\n",
    "from sklearn.ensemble import AdaBoostClassifier\n",
    "from sklearn.neighbors import KNeighborsClassifier\n",
    "from sklearn.tree import DecisionTreeClassifier\n",
    "from sklearn.model_selection import *\n",
    "from numpy import mean\n",
    "from numpy import std\n",
    "from sklearn.model_selection import RepeatedStratifiedKFold\n",
    "from sklearn.model_selection import cross_val_score\n",
    "from sklearn.compose import make_column_transformer\n",
    "from sklearn.model_selection import GridSearchCV\n",
    "from statsmodels.stats.outliers_influence import variance_inflation_factor"
   ]
  },
  {
   "cell_type": "code",
   "execution_count": null,
   "id": "060e9715",
   "metadata": {},
   "outputs": [],
   "source": [
    "Customer_Data= pd.read_csv(\"churn_data.csv\")"
   ]
  },
  {
   "cell_type": "markdown",
   "id": "a09766ad",
   "metadata": {},
   "source": [
    "### Data Exploration"
   ]
  },
  {
   "cell_type": "code",
   "execution_count": null,
   "id": "84266caa",
   "metadata": {},
   "outputs": [],
   "source": [
    "Customer_Data.head()"
   ]
  },
  {
   "cell_type": "code",
   "execution_count": null,
   "id": "a4497118",
   "metadata": {},
   "outputs": [],
   "source": [
    "Customer_Data.info()"
   ]
  },
  {
   "cell_type": "code",
   "execution_count": null,
   "id": "017921a4",
   "metadata": {},
   "outputs": [],
   "source": [
    "Customer_Data.describe()"
   ]
  },
  {
   "cell_type": "code",
   "execution_count": null,
   "id": "486f54c8",
   "metadata": {},
   "outputs": [],
   "source": [
    "Customer_Data.shape"
   ]
  },
  {
   "cell_type": "code",
   "execution_count": null,
   "id": "9129450f",
   "metadata": {},
   "outputs": [],
   "source": [
    "Customer_Data.columns"
   ]
  },
  {
   "cell_type": "code",
   "execution_count": null,
   "id": "00abde6a",
   "metadata": {},
   "outputs": [],
   "source": [
    "Customer_Data.nunique()"
   ]
  },
  {
   "cell_type": "code",
   "execution_count": null,
   "id": "83f5838c",
   "metadata": {},
   "outputs": [],
   "source": [
    "Customer_Data.InternetService.unique()"
   ]
  },
  {
   "cell_type": "code",
   "execution_count": null,
   "id": "3dbdbe88",
   "metadata": {},
   "outputs": [],
   "source": [
    "Customer_Data.Churn.unique()"
   ]
  },
  {
   "cell_type": "code",
   "execution_count": null,
   "id": "ea433e48",
   "metadata": {},
   "outputs": [],
   "source": [
    "Customer_Data.DeviceProtection.unique()"
   ]
  },
  {
   "cell_type": "code",
   "execution_count": null,
   "id": "a7827da8",
   "metadata": {},
   "outputs": [],
   "source": [
    "Customer_Data.TechSupport.unique()"
   ]
  },
  {
   "cell_type": "code",
   "execution_count": null,
   "id": "2d57f3c1",
   "metadata": {},
   "outputs": [],
   "source": [
    "Customer_Data.StreamingTV.unique()"
   ]
  },
  {
   "cell_type": "code",
   "execution_count": null,
   "id": "3d7ebb77",
   "metadata": {},
   "outputs": [],
   "source": [
    "Customer_Data.StreamingMovies.unique()"
   ]
  },
  {
   "cell_type": "code",
   "execution_count": null,
   "id": "25bca500",
   "metadata": {},
   "outputs": [],
   "source": [
    "Customer_Data.Contract.unique()"
   ]
  },
  {
   "cell_type": "code",
   "execution_count": null,
   "id": "12da0b30",
   "metadata": {},
   "outputs": [],
   "source": [
    "Customer_Data.PaperlessBilling  .unique()"
   ]
  },
  {
   "cell_type": "code",
   "execution_count": null,
   "id": "731243e6",
   "metadata": {},
   "outputs": [],
   "source": [
    "Customer_Data.PaymentMethod .unique()"
   ]
  },
  {
   "cell_type": "code",
   "execution_count": null,
   "id": "bf60c4b1",
   "metadata": {},
   "outputs": [],
   "source": [
    "Customer_Data.OnlineSecurity.unique()"
   ]
  },
  {
   "cell_type": "markdown",
   "id": "16cc2fda",
   "metadata": {},
   "source": [
    "#### Pandas Profiling on Dataset"
   ]
  },
  {
   "cell_type": "code",
   "execution_count": null,
   "id": "1b8198d5",
   "metadata": {},
   "outputs": [],
   "source": [
    "#pip install pandas-profiling"
   ]
  },
  {
   "cell_type": "code",
   "execution_count": null,
   "id": "ba9f4a5e",
   "metadata": {},
   "outputs": [],
   "source": [
    "Customer_Data.profile_report()"
   ]
  },
  {
   "cell_type": "code",
   "execution_count": null,
   "id": "c2f9a300",
   "metadata": {},
   "outputs": [],
   "source": [
    "Customer_Data.isnull().sum()"
   ]
  },
  {
   "cell_type": "code",
   "execution_count": null,
   "id": "e56e46f1",
   "metadata": {},
   "outputs": [],
   "source": [
    "Customer_Data.describe()"
   ]
  },
  {
   "cell_type": "markdown",
   "id": "b5bd3326",
   "metadata": {},
   "source": [
    "### Data Cleaning"
   ]
  },
  {
   "cell_type": "code",
   "execution_count": null,
   "id": "4b97de71",
   "metadata": {},
   "outputs": [],
   "source": [
    "Customer_Data.head()"
   ]
  },
  {
   "cell_type": "code",
   "execution_count": null,
   "id": "3f92befc",
   "metadata": {},
   "outputs": [],
   "source": [
    "### dropping irrelevant columns\n",
    "Customer_Data.drop(['customerID'],axis=1, inplace = True)\n",
    "Customer_Data.head()"
   ]
  },
  {
   "cell_type": "code",
   "execution_count": null,
   "id": "ac6b9dd6",
   "metadata": {},
   "outputs": [],
   "source": [
    "### changing datatypes\n",
    "Customer_Data['TotalCharges'] = pd.to_numeric(Customer_Data['TotalCharges'], errors='coerce').fillna(0,\n",
    "                                                                                                     downcast='infer')\n",
    "Customer_Data.info()"
   ]
  },
  {
   "cell_type": "markdown",
   "id": "674ec22f",
   "metadata": {},
   "source": [
    "Finding total charges with values as 0s"
   ]
  },
  {
   "cell_type": "code",
   "execution_count": null,
   "id": "f6ee4594",
   "metadata": {},
   "outputs": [],
   "source": [
    "Missing_Charges = Customer_Data[Customer_Data['TotalCharges'] == 0]\n",
    "Missing_Charges.head()"
   ]
  },
  {
   "cell_type": "code",
   "execution_count": null,
   "id": "92d1e9f9",
   "metadata": {},
   "outputs": [],
   "source": [
    "Missing_Charges.shape"
   ]
  },
  {
   "cell_type": "code",
   "execution_count": null,
   "id": "30319d55",
   "metadata": {},
   "outputs": [],
   "source": [
    "Customer_Data.drop(Customer_Data[Customer_Data['TotalCharges'] == 0].index,\n",
    "                                  inplace = True)\n",
    "Customer_Data"
   ]
  },
  {
   "cell_type": "markdown",
   "id": "bf855802",
   "metadata": {},
   "source": [
    "## Exploratory Data Analysis"
   ]
  },
  {
   "cell_type": "code",
   "execution_count": null,
   "id": "f7ecdc87",
   "metadata": {},
   "outputs": [],
   "source": [
    "Customer_Data.corr()"
   ]
  },
  {
   "cell_type": "code",
   "execution_count": null,
   "id": "4b933818",
   "metadata": {},
   "outputs": [],
   "source": [
    "sns.set(rc = {'figure.figsize':(8,8)})\n",
    "sns.heatmap(Customer_Data.corr(), annot = True)"
   ]
  },
  {
   "cell_type": "code",
   "execution_count": null,
   "id": "adce0416",
   "metadata": {},
   "outputs": [],
   "source": [
    "sns.pairplot(Customer_Data)"
   ]
  },
  {
   "cell_type": "code",
   "execution_count": null,
   "id": "d6aadf87",
   "metadata": {},
   "outputs": [],
   "source": [
    "Customer_Data.head()"
   ]
  },
  {
   "cell_type": "markdown",
   "id": "e4f357db",
   "metadata": {},
   "source": [
    "### Checking Distribution of the target variable"
   ]
  },
  {
   "cell_type": "code",
   "execution_count": null,
   "id": "463892ee",
   "metadata": {},
   "outputs": [],
   "source": [
    "Customer_Data[\"Churn\"].value_counts()"
   ]
  },
  {
   "cell_type": "code",
   "execution_count": null,
   "id": "d7c5590b",
   "metadata": {},
   "outputs": [],
   "source": [
    "sns.set(rc = {'figure.figsize':(15,5)})\n",
    "sns.displot(Customer_Data, x=\"Churn\", shrink=.8)"
   ]
  },
  {
   "cell_type": "markdown",
   "id": "165570ef",
   "metadata": {},
   "source": [
    "### Checking for the distribution of the charges of the company \n",
    "Also the numeric data or columns in the dataset"
   ]
  },
  {
   "cell_type": "code",
   "execution_count": null,
   "id": "6d1b9c20",
   "metadata": {},
   "outputs": [],
   "source": [
    "sns.set(rc = {'figure.figsize':(10,5)})\n",
    "sns.boxplot(Customer_Data['MonthlyCharges'])"
   ]
  },
  {
   "cell_type": "code",
   "execution_count": null,
   "id": "aae861fc",
   "metadata": {},
   "outputs": [],
   "source": [
    "sns.set(rc = {'figure.figsize':(10,5)})\n",
    "sns.boxplot(Customer_Data['TotalCharges'])"
   ]
  },
  {
   "cell_type": "markdown",
   "id": "b929b06d",
   "metadata": {},
   "source": [
    "#### Distribution of the cartegorical columns"
   ]
  },
  {
   "cell_type": "code",
   "execution_count": null,
   "id": "bd062ada",
   "metadata": {},
   "outputs": [],
   "source": [
    "[col for col in Customer_Data.columns if Customer_Data[col].dtype==\"O\"]"
   ]
  },
  {
   "cell_type": "code",
   "execution_count": null,
   "id": "b32bc16d",
   "metadata": {},
   "outputs": [],
   "source": [
    "services= ['gender','Partner','Dependents','PhoneService','MultipleLines',\n",
    "'InternetService','OnlineSecurity',  'OnlineBackup','DeviceProtection',\n",
    "'TechSupport','StreamingTV','StreamingMovies''Contract','PaperlessBilling','PaymentMethod']\n",
    "fig, axes = plt.subplots(nrows = 3,ncols = 3,\n",
    "figsize = (15,12))\n",
    "for i, item in enumerate(services):\n",
    "    if i < 3:\n",
    "        ax = Customer_Data[item].value_counts().plot(\n",
    "        kind = 'bar',ax=axes[i,0],\n",
    "        rot = 0, color ='#6495ED' )\n",
    "        \n",
    "    elif i >=3 and i < 6:\n",
    "        ax = Customer_Data[item].value_counts().plot(\n",
    "        kind = 'bar',ax=axes[i-3,1],\n",
    "        rot = 0,color ='#E3A869')\n",
    "        \n",
    "    elif i < 9:\n",
    "        ax = Customer_Data[item].value_counts().plot(\n",
    "        kind = 'bar',ax=axes[i-6,2],rot = 0,\n",
    "        color = '#CD2626')\n",
    "    ax.set_title(item)"
   ]
  },
  {
   "cell_type": "markdown",
   "id": "f264eb71",
   "metadata": {},
   "source": [
    "## Question1.Which Internet service customers churn the  most."
   ]
  },
  {
   "cell_type": "code",
   "execution_count": null,
   "id": "f04b1280",
   "metadata": {},
   "outputs": [],
   "source": [
    "##first checking for the percentage of customers on the different internet services\n",
    "Internet= Customer_Data['InternetService'].value_counts()\n",
    "Internet_result = pd.DataFrame(Internet)\n",
    "\n",
    "Internet_result = Internet_result .reset_index()  \n",
    "Internet_result .columns = ['InternetService', 'Total']\n",
    "Internet_result \n"
   ]
  },
  {
   "cell_type": "code",
   "execution_count": null,
   "id": "8ec8b022",
   "metadata": {},
   "outputs": [],
   "source": [
    "fig = px.pie(Internet_result,\n",
    "             values='Total',\n",
    "             names='InternetService')\n",
    "fig .show()"
   ]
  },
  {
   "cell_type": "code",
   "execution_count": null,
   "id": "3e4db97d",
   "metadata": {},
   "outputs": [],
   "source": [
    "sns.set(rc = {'figure.figsize':(10,5)})\n",
    "ax = sns.countplot(data= Customer_Data, x='InternetService', hue='Churn',palette=\"pastel\")\n",
    "for container in ax.containers:\n",
    "    ax.bar_label(container)"
   ]
  },
  {
   "cell_type": "markdown",
   "id": "593a386f",
   "metadata": {},
   "source": [
    "From the plots above 44% of customers are on the Fibre Optic,34% on the DSL internet services and 21.6% on no internet service churn the most however most of its customers are on the fibre optic internet service.Although most of the customers subscibe to the fibre optic internet service, most customers who churn are from the fibre optic internet service. A total of 1297 customers on the fibre optic internet service churned being the highest,459 from the DSL and 113 from no internet services."
   ]
  },
  {
   "cell_type": "code",
   "execution_count": null,
   "id": "e7afc904",
   "metadata": {
    "scrolled": true
   },
   "outputs": [],
   "source": [
    "sns.set(rc = {'figure.figsize':(10,5)})\n",
    "ax = sns.countplot(data= Customer_Data, x='InternetService', hue='TechSupport',palette=\"pastel\")\n",
    "for container in ax.containers:\n",
    "    ax.bar_label(container)"
   ]
  },
  {
   "cell_type": "markdown",
   "id": "87836263",
   "metadata": {},
   "source": [
    "Further analysis shows that majority of the customers on the fibre optic internet service do not receive tech support. Therefore it could possible that customers on the fibre optic internet services churn mostly due to poor services."
   ]
  },
  {
   "cell_type": "markdown",
   "id": "7414568d",
   "metadata": {},
   "source": [
    "### Question2:Does customers receiving tech support influence their retention even if charges increases."
   ]
  },
  {
   "cell_type": "code",
   "execution_count": null,
   "id": "c9703ce2",
   "metadata": {},
   "outputs": [],
   "source": [
    "Customer_Data.head()"
   ]
  },
  {
   "cell_type": "code",
   "execution_count": null,
   "id": "d92c593f",
   "metadata": {},
   "outputs": [],
   "source": [
    "g = sns.catplot(\n",
    "    data=Customer_Data,\n",
    "    x=\"TotalCharges\", y=\"TechSupport\", row=\"Churn\",\n",
    "    kind=\"box\", orient=\"h\",\n",
    "    sharex=False, margin_titles=True,\n",
    "    height=3.5, aspect=4, legend=False)\n",
    "\n",
    "g.set(xlabel=\"Total Charges\", ylabel=\"Tech Support\")\n",
    "g.set_titles(row_template=\"{row_name} class\")"
   ]
  },
  {
   "cell_type": "markdown",
   "id": "4e434fee",
   "metadata": {},
   "source": [
    "From the plot above customers are likely to be retented if they receive tech suport even if charges increases. Customers from the No churn class are more than customers from the Yes churn class as they receive tech support even as the charges increased. Hence from the plot to keep customers from not churning, Vodafone could provide better charges to customers and they could be retained even if they have to pay more for those services."
   ]
  },
  {
   "cell_type": "markdown",
   "id": "a6a0bdfc",
   "metadata": {},
   "source": [
    "### Question3.Does customers with partners and dependants churn more than those with no partners and no dependants."
   ]
  },
  {
   "cell_type": "code",
   "execution_count": null,
   "id": "12925af0",
   "metadata": {},
   "outputs": [],
   "source": [
    "sns.set(rc = {'figure.figsize':(10,5)})\n",
    "ax = sns.countplot(data= Customer_Data, x='Partner', hue='Churn')\n",
    "for container in ax.containers:\n",
    "    ax.bar_label(container)"
   ]
  },
  {
   "cell_type": "code",
   "execution_count": null,
   "id": "cce28cff",
   "metadata": {},
   "outputs": [],
   "source": [
    "sns.set(rc = {'figure.figsize':(10,5)})\n",
    "ax = sns.countplot(data= Customer_Data, x='Dependents', hue='Churn')\n",
    "for container in ax.containers:\n",
    "    ax.bar_label(container)"
   ]
  },
  {
   "cell_type": "markdown",
   "id": "2831b0f9",
   "metadata": {},
   "source": [
    "From the plots above customers with no partners and depedendants churn more than those with partners and dependants.1200 of customers with no partners and 1543 of customers with no dependants churn as compared to 669 and 326 customers with partners and dependants."
   ]
  },
  {
   "cell_type": "markdown",
   "id": "46705aec",
   "metadata": {},
   "source": [
    "### Question4.Does increase in charges on products influence customer churn."
   ]
  },
  {
   "cell_type": "code",
   "execution_count": null,
   "id": "ba0e7322",
   "metadata": {},
   "outputs": [],
   "source": [
    "sns.scatterplot(data= Customer_Data,y =\"TotalCharges\", x =\"MonthlyCharges\", hue=\"Churn\")\n",
    "   "
   ]
  },
  {
   "cell_type": "markdown",
   "id": "b553a9b5",
   "metadata": {},
   "source": [
    "Majority of customers who churn with rest to charges churned more as the charges increased"
   ]
  },
  {
   "cell_type": "markdown",
   "id": "1d7bbd08",
   "metadata": {},
   "source": [
    "### Question5.Does increase in monthly charges cause both senior citizens and non-senior citizens to churn."
   ]
  },
  {
   "cell_type": "code",
   "execution_count": null,
   "id": "e1363bfe",
   "metadata": {},
   "outputs": [],
   "source": [
    "sns.set(rc = {'figure.figsize':(10,5)})\n",
    "ax = sns.countplot(data= Customer_Data, x='SeniorCitizen', hue='Churn')\n",
    "for container in ax.containers:\n",
    "    ax.bar_label(container)"
   ]
  },
  {
   "cell_type": "code",
   "execution_count": null,
   "id": "74b599ec",
   "metadata": {},
   "outputs": [],
   "source": [
    "# Visualizing the distribution of categories inside the column\n",
    "fig = px.box(Customer_Data, y= 'MonthlyCharges', x=\"SeniorCitizen\", color=\"Churn\", labels= {\"color\": \"Churned\",\n",
    "                                                   \"SeniorCitizen\": \"Senior Citizen\",\n",
    "                                                   \"MonthlyCharges\": \"Monthly Charges (USD)\",\n",
    "                                                   \"TotalCharges\": \"Total Charges (USD)\"\n",
    "                                                  },\n",
    "             title=f\"A visual representation of values in the monthly charges column\"\n",
    "            )\n",
    "fig.show()"
   ]
  },
  {
   "cell_type": "markdown",
   "id": "2c0ba5bb",
   "metadata": {},
   "source": [
    "### Question6.Does longer contracts with customers increase their retention.¶"
   ]
  },
  {
   "cell_type": "code",
   "execution_count": null,
   "id": "360e4dfc",
   "metadata": {},
   "outputs": [],
   "source": [
    "sns.set(rc = {'figure.figsize':(10,5)})\n",
    "ax = sns.countplot(data= Customer_Data, x='Contract', hue='Churn')\n",
    "for container in ax.containers:\n",
    "    ax.bar_label(container)"
   ]
  },
  {
   "cell_type": "markdown",
   "id": "800b674e",
   "metadata": {},
   "source": [
    "Yes longer contracts increses customer retention."
   ]
  },
  {
   "cell_type": "markdown",
   "id": "261869ec",
   "metadata": {},
   "source": [
    "#### Question7. Are customers with longer tenures with the company less likely to churn."
   ]
  },
  {
   "cell_type": "code",
   "execution_count": null,
   "id": "b219b097",
   "metadata": {},
   "outputs": [],
   "source": [
    "g = sns.catplot(\n",
    "    data=Customer_Data,\n",
    "    x=\"tenure\", y=\"Churn\",\n",
    "    kind=\"box\", orient=\"h\",\n",
    "    sharex=False, margin_titles=True,\n",
    "    height= 3, aspect=4,\n",
    ")\n",
    "g.set(xlabel=\"Cusrtomer's Tenures\", ylabel=\"Churn\")"
   ]
  },
  {
   "cell_type": "markdown",
   "id": "786e0553",
   "metadata": {},
   "source": [
    "#### Question8 How likely are customers with paperless billing more likely to churn to custmers with non-paperless billings."
   ]
  },
  {
   "cell_type": "code",
   "execution_count": null,
   "id": "52be67ba",
   "metadata": {},
   "outputs": [],
   "source": [
    "sns.set(rc = {'figure.figsize':(10,5)})\n",
    "ax = sns.countplot(data= Customer_Data, x=\"PaperlessBilling\", hue='Churn',palette = \"viridis\")\n",
    "for container in ax.containers:\n",
    "    ax.bar_label(container)"
   ]
  },
  {
   "cell_type": "markdown",
   "id": "6ef42bbc",
   "metadata": {},
   "source": [
    "From the plot above customers on the paperless billings are more likely to churn than customers without paperless bilings"
   ]
  },
  {
   "cell_type": "markdown",
   "id": "c2f94be3",
   "metadata": {},
   "source": [
    "#### Hypothesis 1.Increases in monthly charges causes customers on the credit card payment plan to churn."
   ]
  },
  {
   "cell_type": "code",
   "execution_count": null,
   "id": "41866cea",
   "metadata": {},
   "outputs": [],
   "source": [
    "ax = sns.countplot(data= Customer_Data, x=\"PaymentMethod\", hue='Churn')\n",
    "for container in ax.containers:\n",
    "    ax.bar_label(container)"
   ]
  },
  {
   "cell_type": "code",
   "execution_count": null,
   "id": "1f2621cf",
   "metadata": {},
   "outputs": [],
   "source": [
    "# Visualizing the distribution of categories inside the column\n",
    "fig = px.box(Customer_Data, y= 'MonthlyCharges', x=\"PaymentMethod\", color=\"Churn\", labels= {\"color\": \"Churned\",\n",
    "                                                   \"SeniorCitizen\": \"Senior Citizen\",\n",
    "                                                   \"MonthlyCharges\": \"Monthly Charges (USD)\",\n",
    "                                                   \"TotalCharges\": \"Total Charges (USD)\"\n",
    "                                                  },\n",
    "             title=f\"A visual representation of values in the monthly charges column\"\n",
    "            )\n",
    "fig.show()"
   ]
  },
  {
   "cell_type": "markdown",
   "id": "1353c52a",
   "metadata": {},
   "source": [
    "From the above plots most customers use the mailed check as a payment method. However customers that churned the most due to increase in monthly charges are customers who uses the bank transfers as payment methods, folowed by electronic cheques.The maximum monthly charges that caused customers to churn on the bank transfers as was 118.35 and 117.45 for Electronic charges.Majority of customers who churned on the bank transfers and the electronic check are found after the monthly charges increased above 82 "
   ]
  },
  {
   "cell_type": "markdown",
   "id": "25848324",
   "metadata": {},
   "source": [
    "#### Hypothesis 2. Males receive better services hence influence their retention."
   ]
  },
  {
   "cell_type": "code",
   "execution_count": null,
   "id": "8f53bbbf",
   "metadata": {},
   "outputs": [],
   "source": [
    "#Checking for percentage of male to female customers\n",
    "Gender = Customer_Data['gender'].value_counts()\n",
    "Gender_result = pd.DataFrame(Gender)\n",
    "\n",
    "Gender_result = Gender_result.reset_index()  \n",
    "\n",
    "Gender_result.columns = ['gender', 'Total']\n",
    "Gender_result"
   ]
  },
  {
   "cell_type": "code",
   "execution_count": null,
   "id": "93503a6a",
   "metadata": {},
   "outputs": [],
   "source": [
    "fig = px.pie(Gender_result,\n",
    "             values='Total',\n",
    "             names='gender')\n",
    "fig .show()"
   ]
  },
  {
   "cell_type": "code",
   "execution_count": null,
   "id": "8856222c",
   "metadata": {},
   "outputs": [],
   "source": [
    "sns.set(rc = {'figure.figsize':(10,5)})\n",
    "ax = sns.countplot(data= Customer_Data, x=\"gender\", hue='TechSupport',palette = \"viridis\")\n",
    "for container in ax.containers:\n",
    "    ax.bar_label(container)"
   ]
  },
  {
   "cell_type": "code",
   "execution_count": null,
   "id": "bb2cac2b",
   "metadata": {},
   "outputs": [],
   "source": [
    "sns.set(rc = {'figure.figsize':(10,5)})\n",
    "ax = sns.countplot(data= Customer_Data, x=\"gender\", hue='OnlineSecurity',palette = \"viridis\")\n",
    "for container in ax.containers:\n",
    "    ax.bar_label(container)"
   ]
  },
  {
   "cell_type": "code",
   "execution_count": null,
   "id": "f3d7f8f5",
   "metadata": {},
   "outputs": [],
   "source": [
    "sns.set(rc = {'figure.figsize':(10,5)})\n",
    "ax = sns.countplot(data= Customer_Data, x=\"gender\", hue='Churn',palette = \"viridis\")\n",
    "for container in ax.containers:\n",
    "    ax.bar_label(container)"
   ]
  },
  {
   "cell_type": "raw",
   "id": "b865479a",
   "metadata": {},
   "source": [
    "From the plots above 50.5%  of customers are males and 49.5% are females.\n",
    "26.96% and 26.20% of females and males churned respectively. \n",
    "29.39 of females receives tech support and online security whilst 28.62% and 27.92% of males received tech support and online security respectively.Hence from the analysis above males do not receive better services, however they churn less than the females."
   ]
  },
  {
   "cell_type": "markdown",
   "id": "f0336e55",
   "metadata": {},
   "source": [
    "#### Hypothesis 3. Customers with multiple lines are less likely to churn"
   ]
  },
  {
   "cell_type": "code",
   "execution_count": null,
   "id": "61171347",
   "metadata": {},
   "outputs": [],
   "source": [
    "Customer_Data.head()"
   ]
  },
  {
   "cell_type": "code",
   "execution_count": null,
   "id": "f950c932",
   "metadata": {},
   "outputs": [],
   "source": [
    "Multilines = Customer_Data['MultipleLines'].value_counts()\n",
    "Multilines"
   ]
  },
  {
   "cell_type": "code",
   "execution_count": null,
   "id": "d865b2d3",
   "metadata": {},
   "outputs": [],
   "source": [
    "Multilines_result = pd.DataFrame(Multilines)\n",
    "\n",
    "Multilines_result = Multilines_result.reset_index()  \n",
    "\n",
    "Multilines_result.columns = ['MultipleLines', 'Total']\n",
    "Multilines_result[\"Percent of Total\"] = (Multilines_result[\"Total\"]/Multilines_result[\"Total\"].sum())*100\n",
    "Multilines_result"
   ]
  },
  {
   "cell_type": "code",
   "execution_count": null,
   "id": "c2ca9e31",
   "metadata": {},
   "outputs": [],
   "source": [
    "fig = px.pie(Multilines_result,\n",
    "             values='Total',\n",
    "             names='MultipleLines')\n",
    "fig.show()"
   ]
  },
  {
   "cell_type": "code",
   "execution_count": null,
   "id": "60160802",
   "metadata": {},
   "outputs": [],
   "source": [
    "sns.set(rc = {'figure.figsize':(10,5)})\n",
    "ax =sns.countplot(data= Customer_Data, x=\"MultipleLines\", hue='Churn',palette = \"viridis\")\n",
    "for container in ax.containers:\n",
    "    ax.bar_label(container)"
   ]
  },
  {
   "cell_type": "raw",
   "id": "beff581e",
   "metadata": {},
   "source": [
    "The visualizations above shows that 48.1% and 42% are without multiple lines and with multiple lines respectively.Customers without multiple lines churn more than those with multiple lines. 40.2% of customers with multiple lines churned as compared to 30% of the customer without mulple lines."
   ]
  },
  {
   "cell_type": "markdown",
   "id": "ad628e6c",
   "metadata": {},
   "source": [
    "### Feature Engineering"
   ]
  },
  {
   "cell_type": "code",
   "execution_count": null,
   "id": "eba379c1",
   "metadata": {},
   "outputs": [],
   "source": [
    "Customer_Data.head()"
   ]
  },
  {
   "cell_type": "code",
   "execution_count": null,
   "id": "c2f63df6",
   "metadata": {},
   "outputs": [],
   "source": [
    "Category =[col for col in Customer_Data.columns if Customer_Data[col].dtype==\"O\"]\n",
    "Category"
   ]
  },
  {
   "cell_type": "code",
   "execution_count": null,
   "id": "454d611b",
   "metadata": {},
   "outputs": [],
   "source": [
    "sample_df = Customer_Data.drop(['MonthlyCharges','TotalCharges','tenure'],axis=1)"
   ]
  },
  {
   "cell_type": "code",
   "execution_count": null,
   "id": "8aeb83d0",
   "metadata": {},
   "outputs": [],
   "source": [
    "sample_df.head()"
   ]
  },
  {
   "cell_type": "code",
   "execution_count": null,
   "id": "50d11dd9",
   "metadata": {},
   "outputs": [],
   "source": [
    "sample_df.drop(['Churn'],axis=1, inplace = True)\n",
    "sample_df.head()"
   ]
  },
  {
   "cell_type": "code",
   "execution_count": null,
   "id": "01111d59",
   "metadata": {},
   "outputs": [],
   "source": [
    "Encoded = OneHotEncoder(sparse=False, drop='first', handle_unknown='error')"
   ]
  },
  {
   "cell_type": "code",
   "execution_count": null,
   "id": "a761ec09",
   "metadata": {},
   "outputs": [],
   "source": [
    "tfd = make_column_transformer(\n",
    "    (Encoded, ['gender','Partner','Dependents','PhoneService','MultipleLines',\n",
    "                          'InternetService','OnlineSecurity','OnlineBackup','DeviceProtection',\n",
    "                         'TechSupport','StreamingTV','StreamingMovies','Contract','PaperlessBilling',\n",
    "                        'PaymentMethod']),   \n",
    "    remainder='passthrough',)"
   ]
  },
  {
   "cell_type": "code",
   "execution_count": null,
   "id": "a55c5415",
   "metadata": {},
   "outputs": [],
   "source": [
    "X_train_encoded = tfd.fit_transform(sample_df)\n",
    "X_train_encoded = pd.DataFrame(\n",
    "    X_train_encoded, \n",
    "    columns=tfd.get_feature_names_out())"
   ]
  },
  {
   "cell_type": "code",
   "execution_count": null,
   "id": "838e0ebd",
   "metadata": {},
   "outputs": [],
   "source": [
    "X_train_encoded"
   ]
  },
  {
   "cell_type": "code",
   "execution_count": null,
   "id": "c77d2dc1",
   "metadata": {},
   "outputs": [],
   "source": [
    "X_train_encoded.onehotencoder__gender_Male.unique()"
   ]
  },
  {
   "cell_type": "code",
   "execution_count": null,
   "id": "ae0debd0",
   "metadata": {},
   "outputs": [],
   "source": [
    "complete_set =pd.concat([Customer_Data.reset_index(drop = True), X_train_encoded], axis = 1)\n",
    "complete_set"
   ]
  },
  {
   "cell_type": "code",
   "execution_count": null,
   "id": "567997b7",
   "metadata": {},
   "outputs": [],
   "source": [
    "complete_set.drop(['gender','Partner','Dependents','PhoneService','MultipleLines',\n",
    "                          'InternetService','OnlineSecurity','OnlineBackup','DeviceProtection',\n",
    "                         'TechSupport','StreamingTV','StreamingMovies','Contract','PaperlessBilling',\n",
    "                        'PaymentMethod'],axis=1, inplace = True)\n",
    "complete_set.head()"
   ]
  },
  {
   "cell_type": "code",
   "execution_count": null,
   "id": "070d8b7a",
   "metadata": {},
   "outputs": [],
   "source": [
    "le = preprocessing.LabelEncoder()\n",
    "complete_set['Churn'] = le.fit_transform(complete_set.Churn)\n",
    "complete_set.head()"
   ]
  },
  {
   "cell_type": "code",
   "execution_count": null,
   "id": "aaa9b340",
   "metadata": {},
   "outputs": [],
   "source": [
    "# Looking at the correlation between the variables in the merged dataframe\n",
    "correlation = pd.DataFrame(complete_set.corr())\n",
    "colorscale=[[0.0, 'rgb(255,255,255)'], [0.2, 'rgb(255, 255, 153)'],\n",
    "            [0.4, 'rgb(153, 255, 204)'], [0.6, 'rgb(179, 217, 255)'],\n",
    "            [0.8, 'rgb(240, 179, 255)'],[1.0, 'rgb(255, 77, 148)']]\n",
    "fig = px.imshow(correlation,\n",
    "                text_auto = \".4f\",\n",
    "                aspect = \"auto\",\n",
    "                labels = {\"color\":\"Correlation Coefficient\"},\n",
    "                contrast_rescaling = \"minmax\",\n",
    "                color_continuous_scale= colorscale #[\"#fa4b3e\", \"#f5dd53\", \"#228B22\"]\n",
    "               )\n",
    "fig.update_xaxes(side=\"top\")\n",
    "fig.show()"
   ]
  },
  {
   "cell_type": "code",
   "execution_count": null,
   "id": "bc2c1684",
   "metadata": {},
   "outputs": [],
   "source": [
    "complete_set.isnull().sum()"
   ]
  },
  {
   "cell_type": "markdown",
   "id": "7e10f671",
   "metadata": {},
   "source": [
    "####             Train Test split"
   ]
  },
  {
   "cell_type": "code",
   "execution_count": null,
   "id": "1300d81e",
   "metadata": {},
   "outputs": [],
   "source": [
    "# Training data\n",
    "y = complete_set[\"Churn\"]\n",
    "X = complete_set.drop(columns = [\"Churn\"])\n",
    "# Splitting the dataframe into train and test\n",
    "X_train, X_test, y_train, y_test = train_test_split(X, y, test_size = 0.25, random_state = 24, stratify = y)"
   ]
  },
  {
   "cell_type": "code",
   "execution_count": null,
   "id": "90663f23",
   "metadata": {},
   "outputs": [],
   "source": [
    "# Putting the training dataset together for modelling\n",
    "train_data = X_train.join(y_train, on = X_train.index)\n",
    "train_data.head()"
   ]
  },
  {
   "cell_type": "code",
   "execution_count": null,
   "id": "c83e2266",
   "metadata": {},
   "outputs": [],
   "source": [
    "train_data.shape"
   ]
  },
  {
   "cell_type": "code",
   "execution_count": null,
   "id": "94116ccb",
   "metadata": {},
   "outputs": [],
   "source": [
    "# Putting the test dataset together for modelling\n",
    "test_data = X_test.join(y_test, on = X_test.index)\n",
    "test_data.head()"
   ]
  },
  {
   "cell_type": "markdown",
   "id": "389d9830",
   "metadata": {},
   "source": [
    "#### SCALING THE NUMERIC COLUMNS"
   ]
  },
  {
   "cell_type": "code",
   "execution_count": null,
   "id": "f07fc995",
   "metadata": {},
   "outputs": [],
   "source": [
    "cols_to_scale = ['tenure','MonthlyCharges','TotalCharges']\n",
    "\n",
    "\n",
    "scaler = MinMaxScaler()\n",
    "train_data[cols_to_scale] = scaler.fit_transform(train_data[cols_to_scale])"
   ]
  },
  {
   "cell_type": "code",
   "execution_count": null,
   "id": "5595705e",
   "metadata": {},
   "outputs": [],
   "source": [
    "cols_to_scale = ['tenure','MonthlyCharges','TotalCharges']\n",
    "\n",
    "\n",
    "scaler = MinMaxScaler()\n",
    "test_data[cols_to_scale] = scaler.fit_transform(test_data[cols_to_scale])"
   ]
  },
  {
   "cell_type": "markdown",
   "id": "a6d0a2b1",
   "metadata": {},
   "source": [
    "### MODELLING "
   ]
  },
  {
   "cell_type": "code",
   "execution_count": null,
   "id": "1b0c51a5",
   "metadata": {},
   "outputs": [],
   "source": [
    "count_not_churned, count_churned = train_data[\"Churn\"].value_counts()\n",
    "count_not_churned, count_churned"
   ]
  },
  {
   "cell_type": "code",
   "execution_count": null,
   "id": "5b705752",
   "metadata": {},
   "outputs": [],
   "source": [
    "count_churned"
   ]
  },
  {
   "cell_type": "markdown",
   "id": "2053322c",
   "metadata": {},
   "source": [
    "### OVERSAMPLING SMOTE BALANCING"
   ]
  },
  {
   "cell_type": "code",
   "execution_count": null,
   "id": "2b04d167",
   "metadata": {},
   "outputs": [],
   "source": [
    "X = train_data.drop('Churn',axis='columns')\n",
    "y = train_data['Churn']"
   ]
  },
  {
   "cell_type": "code",
   "execution_count": null,
   "id": "927524b9",
   "metadata": {},
   "outputs": [],
   "source": [
    "#pip install imblearn"
   ]
  },
  {
   "cell_type": "code",
   "execution_count": null,
   "id": "5c46e901",
   "metadata": {},
   "outputs": [],
   "source": [
    "from imblearn.over_sampling import SMOTE\n"
   ]
  },
  {
   "cell_type": "code",
   "execution_count": null,
   "id": "0c8f697a",
   "metadata": {},
   "outputs": [],
   "source": [
    "smote = SMOTE(sampling_strategy='minority')\n",
    "X_sm, y_sm = smote.fit_resample(X, y)\n",
    "\n",
    "y_sm.value_counts()"
   ]
  },
  {
   "cell_type": "code",
   "execution_count": null,
   "id": "47873942",
   "metadata": {},
   "outputs": [],
   "source": [
    "sm_X_train, sm_X_test, sm_y_train, sm_y_test = train_test_split(X_sm, y_sm, test_size=0.2, \n",
    "                                                    random_state=15, stratify=y_sm)"
   ]
  },
  {
   "cell_type": "markdown",
   "id": "cf96e42a",
   "metadata": {},
   "source": [
    "### Logistic Regression"
   ]
  },
  {
   "cell_type": "code",
   "execution_count": null,
   "id": "ab88de54",
   "metadata": {},
   "outputs": [],
   "source": [
    "# Logistic Regression\n",
    "log_reg = LogisticRegression(random_state = 20)\n",
    "log_reg_model = log_reg.fit(sm_X_train, sm_y_train)"
   ]
  },
  {
   "cell_type": "code",
   "execution_count": null,
   "id": "57d4894a",
   "metadata": {},
   "outputs": [],
   "source": [
    "## Feature Importance of the Random Forest Model\n",
    "log_reg_importance = log_reg_model.coef_[0]\n",
    "log_reg_importance = pd.DataFrame(log_reg_importance, index = X.columns)\n",
    "log_reg_importance.reset_index(inplace = True)\n",
    "log_reg_importance.rename(columns = {\"index\": \"Feature\", 0:\"Score\"}, inplace = True)\n",
    "log_reg_importance.sort_values(by = \"Score\", ascending = False, inplace = True)\n",
    "log_reg_importance\n",
    "\n",
    "fig = px.bar(log_reg_importance, x = \"Feature\", y = \"Score\")\n",
    "fig.show()"
   ]
  },
  {
   "cell_type": "code",
   "execution_count": null,
   "id": "f38a539f",
   "metadata": {},
   "outputs": [],
   "source": [
    "y_pred = log_reg.predict(sm_X_test)\n",
    "y_true = sm_y_test"
   ]
  },
  {
   "cell_type": "code",
   "execution_count": null,
   "id": "8f577584",
   "metadata": {},
   "outputs": [],
   "source": [
    "cm_lr = confusion_matrix(y_true,y_pred)\n",
    "f, ax = plt.subplots(figsize=(8,8))\n",
    "sns.heatmap(cm_lr, annot=True, linewidth=0.5, fmt=\".0f\",cmap='RdPu',ax = ax)\n",
    "plt.xlabel = ('y_pred')\n",
    "plt.ylabel = ('y_true')\n",
    "plt.show()"
   ]
  },
  {
   "cell_type": "code",
   "execution_count": null,
   "id": "3c393b18",
   "metadata": {},
   "outputs": [],
   "source": [
    "# Evaluating the model\n",
    "smote_report = classification_report(sm_y_test, y_pred, target_names= [\"Stayed\", \"Churned\"])\n",
    "print(smote_report)"
   ]
  },
  {
   "cell_type": "code",
   "execution_count": null,
   "id": "429893dd",
   "metadata": {},
   "outputs": [],
   "source": [
    "fbeta_score(y_true, y_pred, average='binary', beta= 0.9)"
   ]
  },
  {
   "cell_type": "markdown",
   "id": "3762a8b4",
   "metadata": {},
   "source": [
    "###  Random Forests"
   ]
  },
  {
   "cell_type": "code",
   "execution_count": null,
   "id": "c54782ee",
   "metadata": {},
   "outputs": [],
   "source": [
    "rf_smote = RandomForestClassifier(random_state = 24)\n",
    "rf_smote = rf_smote.fit(sm_X_train, sm_y_train)"
   ]
  },
  {
   "cell_type": "code",
   "execution_count": null,
   "id": "7d414f7b",
   "metadata": {},
   "outputs": [],
   "source": [
    "## Feature Importance of the Random Forest Model\n",
    "rf_importance = rf_smote.feature_importances_\n",
    "rf_importance = pd.DataFrame(rf_importance, columns = [\"score\"]).reset_index()\n",
    "rf_importance[\"Feature\"] = list(X.columns)\n",
    "rf_importance.drop(columns = [\"index\"], inplace = True)\n",
    "rf_importance.sort_values(by = \"score\", ascending = False, ignore_index = True, inplace = True)\n",
    "\n",
    "\n",
    "\n",
    "## Visualizing the feature importances\n",
    "fig = px.bar(rf_importance, x = \"Feature\", y = \"score\")\n",
    "fig.show()"
   ]
  },
  {
   "cell_type": "code",
   "execution_count": null,
   "id": "4217d49c",
   "metadata": {},
   "outputs": [],
   "source": [
    "rfsmote_pred = rf_smote.predict(sm_X_test)\n",
    "rf_true = sm_y_test"
   ]
  },
  {
   "cell_type": "code",
   "execution_count": null,
   "id": "8f1a6ea3",
   "metadata": {},
   "outputs": [],
   "source": [
    "rfsmote = confusion_matrix(sm_y_test,rfsmote_pred)\n",
    "f, ax = plt.subplots(figsize=(8,8))\n",
    "sns.heatmap(rfsmote, annot=True, linewidth=0.5, fmt=\".0f\",cmap='RdPu',ax = ax)\n",
    "plt.xlabel = ('rfsmote_pred')\n",
    "plt.ylabel = ('rf_true')\n",
    "plt.show()"
   ]
  },
  {
   "cell_type": "code",
   "execution_count": null,
   "id": "00f7ce47",
   "metadata": {},
   "outputs": [],
   "source": [
    "# Evaluating the model\n",
    "smote_report = classification_report(sm_y_test,rfsmote_pred, target_names= [\"Stayed\", \"Churned\"])\n",
    "print(smote_report)"
   ]
  },
  {
   "cell_type": "code",
   "execution_count": null,
   "id": "442f0b14",
   "metadata": {},
   "outputs": [],
   "source": [
    "fbeta_score(y_true, rfsmote_pred, average='binary', beta= 0.9)"
   ]
  },
  {
   "cell_type": "markdown",
   "id": "fed02c77",
   "metadata": {},
   "source": [
    "### ADABOOST"
   ]
  },
  {
   "cell_type": "code",
   "execution_count": null,
   "id": "d570588e",
   "metadata": {},
   "outputs": [],
   "source": [
    "ADAB = AdaBoostClassifier(random_state = 20)\n",
    "ADAB.fit(sm_X_train, sm_y_train)"
   ]
  },
  {
   "cell_type": "code",
   "execution_count": null,
   "id": "d6fa8fe8",
   "metadata": {},
   "outputs": [],
   "source": [
    "ADAB_pred =ADAB.predict(sm_X_test)\n",
    "ADAB_true = sm_y_test"
   ]
  },
  {
   "cell_type": "code",
   "execution_count": null,
   "id": "cfc2636a",
   "metadata": {},
   "outputs": [],
   "source": [
    "ADABsmote = confusion_matrix(sm_y_test,ADAB_pred)\n",
    "f, ax = plt.subplots(figsize=(8,8))\n",
    "sns.heatmap(ADABsmote, annot=True, linewidth=0.5, fmt=\".0f\",cmap='RdPu',ax = ax)\n",
    "plt.xlabel = ('ADAB_pred')\n",
    "plt.ylabel = ('ADAB_true')\n",
    "plt.show()"
   ]
  },
  {
   "cell_type": "code",
   "execution_count": null,
   "id": "08f5acfb",
   "metadata": {},
   "outputs": [],
   "source": [
    "# Evaluating the model\n",
    "smote_report = classification_report(sm_y_test,ADAB_pred, target_names= [\"Stayed\", \"Churned\"])\n",
    "print(smote_report)"
   ]
  },
  {
   "cell_type": "code",
   "execution_count": null,
   "id": "cbc68ca9",
   "metadata": {},
   "outputs": [],
   "source": [
    "fbeta_score(y_true, ADAB_pred, average='binary', beta= 0.9)"
   ]
  },
  {
   "cell_type": "markdown",
   "id": "bae13791",
   "metadata": {},
   "source": [
    "### K-NEAREST NEIGHBOURS"
   ]
  },
  {
   "cell_type": "code",
   "execution_count": null,
   "id": "7b54b573",
   "metadata": {},
   "outputs": [],
   "source": [
    "knn = KNeighborsClassifier(n_neighbors = 5, \\\n",
    "                           metric = 'minkowski', p = 2\n",
    "                          )\n",
    "SMknn_model = knn.fit(sm_X_train, sm_y_train)"
   ]
  },
  {
   "cell_type": "code",
   "execution_count": null,
   "id": "bca2587e",
   "metadata": {},
   "outputs": [],
   "source": [
    "knn_pred =knn.predict(sm_X_test)\n",
    "knn_true = sm_y_test"
   ]
  },
  {
   "cell_type": "code",
   "execution_count": null,
   "id": "3588382a",
   "metadata": {},
   "outputs": [],
   "source": [
    "sm_knn = confusion_matrix(knn_true,knn_pred)\n",
    "f, ax = plt.subplots(figsize=(8,8))\n",
    "sns.heatmap(sm_knn, annot=True, linewidth=0.5, fmt=\".0f\",cmap='RdPu',ax = ax)\n",
    "plt.xlabel = ('knn_pred')\n",
    "plt.ylabel = ('knn_true')\n",
    "plt.show()"
   ]
  },
  {
   "cell_type": "code",
   "execution_count": null,
   "id": "daf53c8e",
   "metadata": {},
   "outputs": [],
   "source": [
    "smote_report = classification_report(sm_y_test,knn_pred, target_names= [\"Stayed\", \"Churned\"])\n",
    "print(smote_report)"
   ]
  },
  {
   "cell_type": "code",
   "execution_count": null,
   "id": "92942cbc",
   "metadata": {},
   "outputs": [],
   "source": [
    "fbeta_score(y_true, knn_pred, average='binary', beta= 0.9)"
   ]
  },
  {
   "cell_type": "markdown",
   "id": "50bd6d84",
   "metadata": {},
   "source": [
    "### Decision Tree"
   ]
  },
  {
   "cell_type": "code",
   "execution_count": null,
   "id": "fe37abf5",
   "metadata": {},
   "outputs": [],
   "source": [
    "Sm_DT = DecisionTreeClassifier(random_state = 20)\n",
    "SmDT_model = Sm_DT.fit(sm_X_train, sm_y_train)\n"
   ]
  },
  {
   "cell_type": "code",
   "execution_count": null,
   "id": "5dcb48f7",
   "metadata": {},
   "outputs": [],
   "source": [
    "## Feature importances\n",
    "SmDT_importance = SmDT_model.feature_importances_\n",
    "SmDT_importance = pd.DataFrame(SmDT_importance, columns = [\"score\"]).reset_index()\n",
    "SmDT_importance[\"Feature\"] = list(X.columns)\n",
    "SmDT_importance.drop(columns = [\"index\"], inplace = True)\n",
    "SmDT_importance.sort_values(by = \"score\", ascending = False, ignore_index=True, inplace = True)\n",
    "\n",
    "\n",
    "\n",
    "## Plotting the feature importances\n",
    "fig = px.bar(SmDT_importance, x = \"Feature\", y = \"score\")\n",
    "fig.show()"
   ]
  },
  {
   "cell_type": "code",
   "execution_count": null,
   "id": "31919573",
   "metadata": {},
   "outputs": [],
   "source": [
    "SmDT_pred =SmDT_model.predict(sm_X_test)\n",
    "SmDT_true = sm_y_test\n"
   ]
  },
  {
   "cell_type": "code",
   "execution_count": null,
   "id": "d942bf36",
   "metadata": {},
   "outputs": [],
   "source": [
    "SmDT = confusion_matrix(SmDT_true, SmDT_pred)\n",
    "f, ax = plt.subplots(figsize=(8,8))\n",
    "sns.heatmap(sm_knn, annot=True, linewidth=0.5, fmt=\".0f\",cmap='RdPu',ax = ax)\n",
    "plt.xlabel = ('SmDT_pred')\n",
    "plt.ylabel = ('SmDT_true ')\n",
    "plt.show()"
   ]
  },
  {
   "cell_type": "code",
   "execution_count": null,
   "id": "1b31b307",
   "metadata": {},
   "outputs": [],
   "source": [
    "smote_report = classification_report(sm_y_test,SmDT_pred, target_names= [\"Stayed\", \"Churned\"])\n",
    "print(smote_report)"
   ]
  },
  {
   "cell_type": "code",
   "execution_count": null,
   "id": "1b11f5a2",
   "metadata": {},
   "outputs": [],
   "source": [
    "fbeta_score(y_true, SmDT_pred, average='binary', beta= 0.9)"
   ]
  },
  {
   "cell_type": "markdown",
   "id": "00faccba",
   "metadata": {},
   "source": [
    "#### MULTICOLLINEARITY TEST WITH VIF"
   ]
  },
  {
   "cell_type": "code",
   "execution_count": null,
   "id": "567101d9",
   "metadata": {},
   "outputs": [],
   "source": [
    "# VIF dataframe\n",
    "vif_data = pd.DataFrame()\n",
    "vif_data[\"feature\"] =complete_set.columns\n",
    "  \n",
    "# calculating VIF for each feature\n",
    "vif_data[\"VIF\"] = [variance_inflation_factor(complete_set.values, i)\n",
    "                          for i in range(len(complete_set.columns))]\n",
    "  \n",
    "print(vif_data)"
   ]
  },
  {
   "cell_type": "markdown",
   "id": "5f3cedc3",
   "metadata": {},
   "source": [
    "Since the monthly charges and total charges have VIF scores more than 10 they will be drop to view the model performances without them"
   ]
  },
  {
   "cell_type": "code",
   "execution_count": null,
   "id": "cdc80e28",
   "metadata": {},
   "outputs": [],
   "source": [
    "train_data.head()"
   ]
  },
  {
   "cell_type": "code",
   "execution_count": null,
   "id": "6f6b1595",
   "metadata": {},
   "outputs": [],
   "source": [
    "train_data.drop(['onehotencoder__PhoneService_Yes'], axis=1, inplace = True)"
   ]
  },
  {
   "cell_type": "code",
   "execution_count": null,
   "id": "152f33a7",
   "metadata": {},
   "outputs": [],
   "source": [
    "train_data"
   ]
  },
  {
   "cell_type": "code",
   "execution_count": null,
   "id": "065a5d76",
   "metadata": {},
   "outputs": [],
   "source": [
    "X = train_data.drop('Churn',axis='columns')\n",
    "y = train_data['Churn']"
   ]
  },
  {
   "cell_type": "code",
   "execution_count": null,
   "id": "fa5fd91a",
   "metadata": {},
   "outputs": [],
   "source": [
    "smote2 = SMOTE(sampling_strategy='minority')\n",
    "X_sm, y_sm = smote.fit_resample(X, y)\n",
    "\n",
    "y_sm.value_counts()"
   ]
  },
  {
   "cell_type": "code",
   "execution_count": null,
   "id": "841f663c",
   "metadata": {},
   "outputs": [],
   "source": [
    "sm1_X_train, sm1_X_test, sm1_y_train, sm1_y_test = train_test_split(X_sm, y_sm, test_size=0.2, \n",
    "                                                    random_state=15, stratify=y_sm)"
   ]
  },
  {
   "cell_type": "code",
   "execution_count": null,
   "id": "1d8c1982",
   "metadata": {},
   "outputs": [],
   "source": [
    "sm1_X_train"
   ]
  },
  {
   "cell_type": "markdown",
   "id": "dc5962fd",
   "metadata": {},
   "source": [
    "### Decision Tree model (without PhoneService)"
   ]
  },
  {
   "cell_type": "code",
   "execution_count": null,
   "id": "452c448f",
   "metadata": {},
   "outputs": [],
   "source": [
    "Sm_DT2 = DecisionTreeClassifier()\n",
    "SmDT2_model = Sm_DT2.fit(sm1_X_train, sm1_y_train)"
   ]
  },
  {
   "cell_type": "code",
   "execution_count": null,
   "id": "65d44ecd",
   "metadata": {},
   "outputs": [],
   "source": [
    "# Feature importances\n",
    "SmDT2_importance = SmDT2_model.feature_importances_\n",
    "SmDT2_importance = pd.DataFrame(SmDT2_importance, columns = [\"score\"]).reset_index()\n",
    "SmDT2_importance[\"Feature\"] = list(X.columns)\n",
    "SmDT2_importance.drop(columns = [\"index\"], inplace = True)\n",
    "SmDT2_importance.sort_values(by = \"score\", ascending = False, ignore_index=True, inplace = True)\n",
    "## Plotting the feature importances\n",
    "fig = px.bar(SmDT2_importance, x = \"Feature\", y = \"score\")\n",
    "fig.show()"
   ]
  },
  {
   "cell_type": "code",
   "execution_count": null,
   "id": "5b9525e9",
   "metadata": {},
   "outputs": [],
   "source": [
    "SmDT2_pred =SmDT2_model.predict(sm1_X_test)\n",
    "SmDT2_true = sm1_y_test"
   ]
  },
  {
   "cell_type": "code",
   "execution_count": null,
   "id": "02367466",
   "metadata": {},
   "outputs": [],
   "source": [
    "SmDT2 = confusion_matrix(SmDT2_true, SmDT2_pred)\n",
    "f, ax = plt.subplots(figsize=(8,8))\n",
    "sns.heatmap(sm_knn, annot=True, linewidth=0.5, fmt=\".0f\",cmap='RdPu',ax = ax)\n",
    "plt.xlabel = ('SmDT2_pred')\n",
    "plt.ylabel = ('SmDT2_true ')"
   ]
  },
  {
   "cell_type": "code",
   "execution_count": null,
   "id": "39f3f319",
   "metadata": {},
   "outputs": [],
   "source": [
    "smote_report = classification_report(sm1_y_test,SmDT2_pred, target_names= [\"Stayed\", \"Churned\"])\n",
    "print(smote_report)\n"
   ]
  },
  {
   "cell_type": "code",
   "execution_count": null,
   "id": "a3d97648",
   "metadata": {},
   "outputs": [],
   "source": [
    "fbeta_score(y_true, SmDT2_pred, average='binary', beta= 0.9)"
   ]
  },
  {
   "cell_type": "raw",
   "id": "55569ff8",
   "metadata": {},
   "source": [
    "Performance of the decision tree model remained the same after the dropping the phone services column.\n",
    "1.F2 and F1-score remained at 0.79.\n",
    "2.Confusion matrix also remained the same"
   ]
  },
  {
   "cell_type": "markdown",
   "id": "f85cd5f2",
   "metadata": {},
   "source": [
    "### RANDOM FOREST MODEL (without PhoneService)"
   ]
  },
  {
   "cell_type": "code",
   "execution_count": null,
   "id": "e6799293",
   "metadata": {},
   "outputs": [],
   "source": [
    "rf2_smote = RandomForestClassifier(random_state = 24)\n",
    "rf2_smote = rf2_smote.fit(sm1_X_train, sm1_y_train)"
   ]
  },
  {
   "cell_type": "code",
   "execution_count": null,
   "id": "d44ddfdc",
   "metadata": {},
   "outputs": [],
   "source": [
    "## Feature Importance of the Random Forest Model\n",
    "rf2_importance = rf2_smote.feature_importances_\n",
    "rf2_importance = pd.DataFrame(rf2_importance, columns = [\"score\"]).reset_index()\n",
    "rf2_importance[\"Feature\"] = list(X.columns)\n",
    "rf2_importance.drop(columns = [\"index\"], inplace = True)\n",
    "rf2_importance.sort_values(by = \"score\", ascending = False, ignore_index = True, inplace = True)\n",
    "## Visualizing the feature importances\n",
    "fig = px.bar(rf2_importance, x = \"Feature\", y = \"score\")\n",
    "fig.show()\n"
   ]
  },
  {
   "cell_type": "code",
   "execution_count": null,
   "id": "f4f03ddb",
   "metadata": {},
   "outputs": [],
   "source": [
    "rf2smote_pred = rf2_smote.predict(sm1_X_test)\n",
    "rf2_true = sm1_y_test"
   ]
  },
  {
   "cell_type": "code",
   "execution_count": null,
   "id": "5e4e83c8",
   "metadata": {},
   "outputs": [],
   "source": [
    "rf2smote = confusion_matrix(sm1_y_test,rf2smote_pred)\n",
    "f, ax = plt.subplots(figsize=(8,8))\n",
    "sns.heatmap(rfsmote, annot=True, linewidth=0.5, fmt=\".0f\",cmap='RdPu',ax = ax)\n",
    "plt.xlabel = ('rf2smote_pred')\n",
    "plt.ylabel = ('rf2_true')\n",
    "plt.show()\n"
   ]
  },
  {
   "cell_type": "code",
   "execution_count": null,
   "id": "da24f2da",
   "metadata": {},
   "outputs": [],
   "source": [
    "# Evaluating the model\n",
    "smote_report = classification_report(sm1_y_test,rf2smote_pred, target_names= [\"Stayed\", \"Churned\"])\n",
    "print(smote_report)"
   ]
  },
  {
   "cell_type": "code",
   "execution_count": null,
   "id": "f78cbff5",
   "metadata": {},
   "outputs": [],
   "source": [
    "fbeta_score(y_true, rf2smote_pred, average='binary', beta= 0.9)"
   ]
  },
  {
   "cell_type": "raw",
   "id": "b210c9db",
   "metadata": {},
   "source": [
    "Performance of the random forest remained the same. \n",
    "F1 and F2 scores remained the same at 0.86 although the precision and of the not_churned customers reduced from 0.88 to 0.86 and recall increased from 0.86 to 0.87.\n",
    "Recall of churned customers reduced from 0.88 to 0.86 whislt precision remained the same."
   ]
  },
  {
   "cell_type": "markdown",
   "id": "c581a437",
   "metadata": {},
   "source": [
    "\n",
    "### AdaBoost Model (without PhoneService)"
   ]
  },
  {
   "cell_type": "code",
   "execution_count": null,
   "id": "f774880e",
   "metadata": {},
   "outputs": [],
   "source": [
    "ADAB_model = AdaBoostClassifier()\n",
    "ADAB_model .fit(sm1_X_train, sm1_y_train)"
   ]
  },
  {
   "cell_type": "code",
   "execution_count": null,
   "id": "480f30a5",
   "metadata": {},
   "outputs": [],
   "source": [
    "ADAB_model_pred =ADAB_model .predict(sm1_X_test)\n",
    "ADAB_model_true = sm1_y_test"
   ]
  },
  {
   "cell_type": "code",
   "execution_count": null,
   "id": "407dbd82",
   "metadata": {},
   "outputs": [],
   "source": [
    "ADABsmote = confusion_matrix(sm1_y_test,ADAB_pred)\n",
    "f, ax = plt.subplots(figsize=(8,8))\n",
    "sns.heatmap(ADABsmote, annot=True, linewidth=0.5, fmt=\".0f\",cmap='RdPu',ax = ax)\n",
    "plt.xlabel = ('ADAB_model_pred')\n",
    "plt.ylabel = ('ADAB_model_true')\n",
    "plt.show()\n"
   ]
  },
  {
   "cell_type": "code",
   "execution_count": null,
   "id": "49b8a8b0",
   "metadata": {},
   "outputs": [],
   "source": [
    "# Evaluating the model\n",
    "smote_report = classification_report(sm1_y_test,ADAB_model_pred, target_names= [\"Stayed\", \"Churned\"])\n",
    "print(smote_report)"
   ]
  },
  {
   "cell_type": "code",
   "execution_count": null,
   "id": "df955707",
   "metadata": {},
   "outputs": [],
   "source": [
    "fbeta_score(y_true, ADAB_model_pred, average='binary', beta= 0.9)"
   ]
  },
  {
   "cell_type": "raw",
   "id": "b25be75d",
   "metadata": {},
   "source": [
    "Performance of the adaboost model did not change much even after dropping one column with a high Variance Inflation Factor."
   ]
  },
  {
   "cell_type": "markdown",
   "id": "7f999476",
   "metadata": {},
   "source": [
    "### K-NEAREST Neighbor( without PhoneService)"
   ]
  },
  {
   "cell_type": "code",
   "execution_count": null,
   "id": "d08732e7",
   "metadata": {},
   "outputs": [],
   "source": [
    "knn2 = KNeighborsClassifier(n_neighbors = 5, \\\n",
    "                           metric = 'minkowski', p = 2)\n",
    "SMknn2_model = knn2.fit(sm1_X_train, sm1_y_train)\n"
   ]
  },
  {
   "cell_type": "code",
   "execution_count": null,
   "id": "81faa6de",
   "metadata": {},
   "outputs": [],
   "source": [
    "knn2_pred =knn2.predict(sm1_X_test)\n",
    "knn2_true = sm1_y_test"
   ]
  },
  {
   "cell_type": "code",
   "execution_count": null,
   "id": "e9c5b062",
   "metadata": {},
   "outputs": [],
   "source": [
    "sm_knn2 = confusion_matrix(knn2_true,knn2_pred)\n",
    "f, ax = plt.subplots(figsize=(8,8))\n",
    "sns.heatmap(sm_knn2, annot=True, linewidth=0.5, fmt=\".0f\",cmap='RdPu',ax = ax)\n",
    "plt.xlabel = ('knn2_pred')\n",
    "plt.ylabel = ('knn2_true')\n",
    "plt.show()"
   ]
  },
  {
   "cell_type": "code",
   "execution_count": null,
   "id": "ceb42e11",
   "metadata": {},
   "outputs": [],
   "source": [
    "smote_report = classification_report(sm1_y_test,knn2_pred, target_names= [\"Stayed\", \"Churned\"])\n",
    "print(smote_report)"
   ]
  },
  {
   "cell_type": "code",
   "execution_count": null,
   "id": "d9e1242d",
   "metadata": {},
   "outputs": [],
   "source": [
    "fbeta_score(y_true, knn2_pred, average='binary', beta= 0.9)"
   ]
  },
  {
   "cell_type": "markdown",
   "id": "2b304d13",
   "metadata": {},
   "source": [
    "Performance of the K-Nearest Neighbour model reduced after the model was without the phone services column.\n",
    "Number of true negative and true positive reduced from 538 and 706 to 535 and 694 respectively\n",
    "Number of false positives and false negatives also increased from 68 to 80 and 237 to 240.\n",
    "Precision and f1-score of not-churned values reduced  from 0.89 and 0.78 to 0.87 and 0.77 respectively.Although recall of the not churned values remained the same at 0.69.Recall and f1-score of churned values also reduced from 0.92 and 0.82 to 0.91 and 0.81 and precision from 0.75 to 0.74. Accuracy from 0.80 to 0.79, f2-score from 0.81 to 0.80"
   ]
  },
  {
   "cell_type": "code",
   "execution_count": null,
   "id": "cb9c08b4",
   "metadata": {},
   "outputs": [],
   "source": []
  },
  {
   "cell_type": "markdown",
   "id": "4e623509",
   "metadata": {},
   "source": [
    "### Logistic Regression( without PhoneServices)"
   ]
  },
  {
   "cell_type": "code",
   "execution_count": null,
   "id": "34821681",
   "metadata": {},
   "outputs": [],
   "source": [
    "log_reg2 = LogisticRegression()\n",
    "log_reg2_model = log_reg2.fit(sm1_X_train, sm1_y_train)"
   ]
  },
  {
   "cell_type": "code",
   "execution_count": null,
   "id": "db4a77aa",
   "metadata": {},
   "outputs": [],
   "source": [
    "## Feature Importance of the Random Forest Model\n",
    "log_reg2_importance = log_reg2_model.coef_[0]\n",
    "log_reg2_importance = pd.DataFrame(log_reg2_importance, index = X.columns)\n",
    "log_reg2_importance.reset_index(inplace = True)\n",
    "log_reg2_importance.rename(columns = {\"index\": \"Feature\", 0:\"Score\"}, inplace = True)\n",
    "log_reg2_importance.sort_values(by = \"Score\", ascending = False, inplace = True)\n",
    "log_reg2_importance\n",
    "\n",
    "fig = px.bar(log_reg2_importance, x = \"Feature\", y = \"Score\")\n",
    "fig.show()"
   ]
  },
  {
   "cell_type": "code",
   "execution_count": null,
   "id": "c1f90e05",
   "metadata": {},
   "outputs": [],
   "source": [
    "log_pred = log_reg2.predict(sm1_X_test)\n",
    "log_true = sm1_y_test\n",
    "log_reg = confusion_matrix(log_true,log_pred)\n",
    "f, ax = plt.subplots(figsize=(8,8))\n",
    "sns.heatmap(cm_lr, annot=True, linewidth=0.5, fmt=\".0f\",cmap='RdPu',ax = ax)\n",
    "plt.xlabel = ('log_reg_pred')\n",
    "plt.ylabel = ('log_reg_true')\n",
    "plt.show()"
   ]
  },
  {
   "cell_type": "code",
   "execution_count": null,
   "id": "7bc33f60",
   "metadata": {},
   "outputs": [],
   "source": [
    "smote_report = classification_report(sm1_y_test, log_pred, target_names= [\"Stayed\", \"Churned\"])\n",
    "print(smote_report)"
   ]
  },
  {
   "cell_type": "code",
   "execution_count": null,
   "id": "4e8fd2dc",
   "metadata": {},
   "outputs": [],
   "source": [
    "fbeta_score(log_true, log_pred, average='binary', beta= 0.9)"
   ]
  },
  {
   "cell_type": "markdown",
   "id": "e89549cc",
   "metadata": {},
   "source": [
    "Perfomance of the logistic regression model did not change much. Precision of the not-churned variable reduced from 0.81 to 0.80 and recall of the churned variable from 0.82 to 0.80.Remaining evaluation metrices peformed the same."
   ]
  },
  {
   "cell_type": "code",
   "execution_count": null,
   "id": "d097cdd8",
   "metadata": {},
   "outputs": [],
   "source": []
  },
  {
   "cell_type": "markdown",
   "id": "5c7099f0",
   "metadata": {},
   "source": [
    "### Hyperparameter Tuning and Cross Validation on the Random Forest"
   ]
  },
  {
   "cell_type": "markdown",
   "id": "0d8b9de0",
   "metadata": {},
   "source": [
    "The process of hyperparameter tuning refers finding the best parameters that increases the accuracy of the model, In my case of the Adaboost model is finding the number of decision tree that would increase the accuracy of the prediction on our test set.The gridsearch and the randomized  CV will be used to find the number trees to optimize our model whilst Cross-validation refers to assesing a models ability to genelise on an independent dataset.We are able to flag problems such as overfitting or selection biases when cross-validation is done"
   ]
  },
  {
   "cell_type": "markdown",
   "id": "8f9f032e",
   "metadata": {},
   "source": [
    "Random forest being the best model would be tuned using the randomised search CV and the Grid Search CV to find it best parameters and also view its ability to generalise on unseen data"
   ]
  },
  {
   "cell_type": "markdown",
   "id": "cbb41399",
   "metadata": {},
   "source": [
    "### Randomised Search CV"
   ]
  },
  {
   "cell_type": "code",
   "execution_count": null,
   "id": "16814f65",
   "metadata": {},
   "outputs": [],
   "source": [
    "n_estimators = list(range(10, 101, 10))\n",
    "# Defining the values and instantiating the grid to be used in the RandomizedSearch\n",
    "random_grid = {\n",
    "    \"n_estimators\": n_estimators,\n",
    "    \"max_depth\": [1, 5, 10, 20, 50, 75, 100, 150, 200],\n",
    "    \"bootstrap\": [True, False],\n",
    "    \"criterion\": [\"gini\", \"entropy\"],\n",
    "    \"max_features\": [\"sqrt\", \"log2\", None],\n",
    "    \"random_state\": [24]\n",
    "}\n",
    "\n",
    "\n",
    "# Running the RandomizedSearch Cross-Validation with the grid\n",
    "rf_rscv = RandomizedSearchCV(estimator= rf_smote,\n",
    "                             param_distributions= random_grid,\n",
    "                             n_iter= 30,\n",
    "                             cv= 10,\n",
    "                             random_state= 24,\n",
    "                             n_jobs= 5)\n",
    "rf_rscv.fit(sm_X_train, sm_y_train)\n",
    "\n"
   ]
  },
  {
   "cell_type": "code",
   "execution_count": null,
   "id": "885fee9a",
   "metadata": {},
   "outputs": [],
   "source": [
    "# Looking at the best combination of hyperparameters for the model\n",
    "best_params = rf_rscv.best_params_\n",
    "print(\"The best combination of hyperparameters for the model will be:\")\n",
    "\n",
    "for param_name in sorted(best_params.keys()):\n",
    "    print(f\"{param_name}: {best_params[param_name]}\")"
   ]
  },
  {
   "cell_type": "code",
   "execution_count": null,
   "id": "e7be7f40",
   "metadata": {},
   "outputs": [],
   "source": [
    "# Defining the best version of the model with the best parameters\n",
    "best_rf_model = RandomForestClassifier(bootstrap = True,\n",
    "                                       criterion= \"entropy\",\n",
    "                                       max_depth= 20,\n",
    "                                       max_features= \"log2\",\n",
    "                                       n_estimators= 100,\n",
    "                                       random_state= 24)\n",
    "                                      \n",
    "# Fitting the model to the training data\n",
    "best_rf_model = best_rf_model.fit(sm_X_train, sm_y_train)\n"
   ]
  },
  {
   "cell_type": "code",
   "execution_count": null,
   "id": "752fab0c",
   "metadata": {},
   "outputs": [],
   "source": [
    "# Predicting the test data\n",
    "best_rf_pred = best_rf_model.predict(sm_X_test)\n",
    "\n",
    "\n",
    "\n",
    "\n",
    "\n",
    "# Evaluating the model\n",
    "best_rf_report = classification_report(sm_y_test, best_rf_pred, target_names=[\"Stayed\", \"Churned\"])\n",
    "print(best_rf_report)"
   ]
  },
  {
   "cell_type": "code",
   "execution_count": null,
   "id": "d9f08c88",
   "metadata": {},
   "outputs": [],
   "source": [
    "rf_rscv.best_score_\n",
    "rf_rscv.score(sm_X_train, sm_y_train)"
   ]
  },
  {
   "cell_type": "code",
   "execution_count": null,
   "id": "03257ffd",
   "metadata": {},
   "outputs": [],
   "source": [
    "# Calculating the accuracy score\n",
    "accuracy = accuracy_score(sm_y_test, best_rf_pred)\n",
    "accuracy = \"{:.5f}\".format(accuracy)\n",
    "print(\"Accuracy:\", accuracy)\n",
    "\n",
    "# Calculating the F2 Score\n",
    "f2_score = fbeta_score(sm_y_test, best_rf_pred, beta= 0.5)\n",
    "f2_score = \"{:.5f}\".format(f2_score)\n",
    "print(\"F2 Score:\", f2_score)"
   ]
  },
  {
   "cell_type": "code",
   "execution_count": null,
   "id": "3cb1f5ee",
   "metadata": {},
   "outputs": [],
   "source": [
    "# Confusion Matrix\n",
    "best_rf_conf_mat = confusion_matrix(sm_y_test, best_rf_pred)\n",
    "best_rf_conf_mat = (pd.DataFrame(best_rf_conf_mat).reset_index(drop=True)).rename(columns={0: \"Stayed\", 1: \"Churned\"})\n",
    "best_rf_conf_mat"
   ]
  },
  {
   "cell_type": "code",
   "execution_count": null,
   "id": "e4d58015",
   "metadata": {},
   "outputs": [],
   "source": [
    "# Visualizing the Confusion Matrix\n",
    "f, ax = plt.subplots()\n",
    "sns.heatmap(best_rf_conf_mat,\n",
    "            annot= True,\n",
    "            linewidth= 1.0,\n",
    "            fmt= \".0f\",\n",
    "            cmap= \"RdPu\",\n",
    "            ax= ax)\n",
    "plt.show()"
   ]
  },
  {
   "cell_type": "code",
   "execution_count": null,
   "id": "43050581",
   "metadata": {},
   "outputs": [],
   "source": [
    "# Cross-validating the scores of the best model\n",
    "final_cv_score = cross_val_score(best_rf_model,\n",
    "                                sm_X_train, sm_y_train,\n",
    "                                 cv= 10).mean()\n",
    "final_cv_score = \"{0:.5}\".format(final_cv_score)\n",
    "\n",
    "\n",
    "\n",
    "print(\"Average score of the model on cross-validation is:\", final_cv_score)"
   ]
  },
  {
   "cell_type": "markdown",
   "id": "f39b2e06",
   "metadata": {},
   "source": [
    "### GridSearchCV"
   ]
  },
  {
   "cell_type": "code",
   "execution_count": null,
   "id": "2e0314b3",
   "metadata": {},
   "outputs": [],
   "source": [
    "list(range(100, 1000, 300))"
   ]
  },
  {
   "cell_type": "code",
   "execution_count": null,
   "id": "46be44ec",
   "metadata": {},
   "outputs": [],
   "source": [
    "# Gridsearch CV\n",
    "gscv_param_grid = {\n",
    "    \"n_estimators\": list(range(100, 1000, 300)),\n",
    "    \"max_features\": [\"sqrt\", \"log2\"],\n",
    "    \"max_depth\": [150, 200, 300],\n",
    "    \"criterion\": [\"gini\"],\n",
    "    \"random_state\": [24],\n",
    "    \"bootstrap\": [True, False],}\n"
   ]
  },
  {
   "cell_type": "code",
   "execution_count": null,
   "id": "68488401",
   "metadata": {},
   "outputs": [],
   "source": [
    "# Redefining the classifier and executing GridSearchCV\n",
    "rf_gscv = GridSearchCV(estimator= rf_smote,\n",
    "                       param_grid= gscv_param_grid,\n",
    "                       n_jobs= -1,\n",
    "                       cv= 5)\n",
    "# Fitting the model to the training data\n",
    "rf_gscv.fit(sm_X_train, sm_y_train)"
   ]
  },
  {
   "cell_type": "code",
   "execution_count": null,
   "id": "da6f1d72",
   "metadata": {},
   "outputs": [],
   "source": [
    "# Looking at the best combination of hyperparameters for the model\n",
    "best_params = rf_gscv.best_params_\n",
    "print(\"The best combination of hyperparameters for the model will be:\")\n",
    "for param_name in sorted(best_params.keys()):\n",
    "    print(f\"{param_name}: {best_params[param_name]}\")"
   ]
  },
  {
   "cell_type": "code",
   "execution_count": null,
   "id": "6b10ada2",
   "metadata": {},
   "outputs": [],
   "source": [
    "# Defining the best version of the model with the best grid search parameters\n",
    "best_gridrf_model = RandomForestClassifier(bootstrap = False,\n",
    "                                       criterion= \"gini\",\n",
    "                                       max_depth= 150,\n",
    "                                       max_features= \"log2\",\n",
    "                                       n_estimators= 100,\n",
    "                                       random_state= 24)\n",
    "                                      \n",
    "# Fitting the model to the training data\n",
    "best_gridrf_model = best_gridrf_model.fit(sm_X_train, sm_y_train)"
   ]
  },
  {
   "cell_type": "code",
   "execution_count": null,
   "id": "b094644e",
   "metadata": {},
   "outputs": [],
   "source": [
    "# Predicting the test data\n",
    "best_gridrf_pred = best_gridrf_model.predict(sm_X_test)\n",
    "\n",
    "# Evaluating the model\n",
    "best_gridrf_report = classification_report(sm_y_test, best_rf_pred, target_names=[\"Stayed\", \"Churned\"])\n",
    "print(best_gridrf_report)"
   ]
  },
  {
   "cell_type": "code",
   "execution_count": null,
   "id": "40ad8b29",
   "metadata": {},
   "outputs": [],
   "source": [
    "rf_gscv.best_score_\n",
    "rf_gscv.score(sm_X_train, sm_y_train)"
   ]
  },
  {
   "cell_type": "code",
   "execution_count": null,
   "id": "d59cefdf",
   "metadata": {},
   "outputs": [],
   "source": [
    "# Calculating the accuracy score\n",
    "accuracy = accuracy_score(sm_y_test, best_gridrf_pred)\n",
    "accuracy = \"{:.5f}\".format(accuracy)\n",
    "print(\"Accuracy:\", accuracy)\n",
    "\n",
    "# Calculating the F2 Score\n",
    "f2_score = fbeta_score(sm_y_test, best_gridrf_pred, beta= 0.5)\n",
    "f2_score = \"{:.5f}\".format(f2_score)\n",
    "print(\"F2 Score:\", f2_score)"
   ]
  },
  {
   "cell_type": "code",
   "execution_count": null,
   "id": "c34ba593",
   "metadata": {},
   "outputs": [],
   "source": [
    "# Confusion Matrix\n",
    "best_gridrf_conf_mat = confusion_matrix(sm_y_test, best_gridrf_pred)\n",
    "best_gridrf_conf_mat = (pd.DataFrame(best_gridrf_conf_mat).reset_index(drop=True)).rename(columns={0: \"Stayed\", 1: \"Churned\"})\n",
    "best_gridrf_conf_mat\n",
    "\n",
    "\n",
    "# Visualizing the Confusion Matrix\n",
    "f, ax = plt.subplots()\n",
    "sns.heatmap(best_rf_conf_mat,\n",
    "            annot= True,\n",
    "            linewidth= 1.0,\n",
    "            fmt= \".0f\",\n",
    "            cmap= \"RdPu\",\n",
    "            ax= ax)\n",
    "plt.show()"
   ]
  },
  {
   "cell_type": "markdown",
   "id": "31dd47a7",
   "metadata": {},
   "source": [
    "### PREDICTION WITH UNBALANCED TEST SET"
   ]
  },
  {
   "cell_type": "markdown",
   "id": "427f5944",
   "metadata": {},
   "source": [
    "The test data from the previous spilt would be used for the prediction with the best performing model."
   ]
  },
  {
   "cell_type": "code",
   "execution_count": null,
   "id": "123fdaf1",
   "metadata": {},
   "outputs": [],
   "source": [
    "test_data"
   ]
  },
  {
   "cell_type": "code",
   "execution_count": null,
   "id": "8d377a4c",
   "metadata": {},
   "outputs": [],
   "source": [
    "X_test.shape"
   ]
  },
  {
   "cell_type": "code",
   "execution_count": null,
   "id": "3446ad30",
   "metadata": {},
   "outputs": [],
   "source": [
    "y_test.shape"
   ]
  },
  {
   "cell_type": "code",
   "execution_count": null,
   "id": "9fc611ac",
   "metadata": {},
   "outputs": [],
   "source": [
    "# Predicting the test data\n",
    "pred = best_gridrf_model.predict(X_test)"
   ]
  },
  {
   "cell_type": "code",
   "execution_count": null,
   "id": "b89fc181",
   "metadata": {},
   "outputs": [],
   "source": [
    "print(\"Accuracy for Random Forest on customer churn data: \",accuracy_score(y_test,pred))"
   ]
  },
  {
   "cell_type": "code",
   "execution_count": null,
   "id": "c71d7497",
   "metadata": {},
   "outputs": [],
   "source": [
    "# Evaluating the model\n",
    "best_rf_report = classification_report(\n",
    "    y_test,pred, target_names=[\"Stayed\",\"Churned\"])\n",
    "print(best_rf_report)"
   ]
  },
  {
   "cell_type": "code",
   "execution_count": null,
   "id": "24a62a2e",
   "metadata": {},
   "outputs": [],
   "source": [
    "# Calculating the F2 Score\n",
    "f2_score = fbeta_score(y_test,pred, beta=0.5)\n",
    "f2_score = \"{:.5f}\".format(f2_score)\n",
    "print(\"F2 Score:\", f2_score)\n"
   ]
  },
  {
   "cell_type": "code",
   "execution_count": null,
   "id": "d2fff42a",
   "metadata": {},
   "outputs": [],
   "source": [
    "# Confusion Matrix\n",
    "best_rf_conf_mat = confusion_matrix(y_test,pred)\n",
    "best_rf_conf_mat = (pd.DataFrame(best_rf_conf_mat).reset_index(\n",
    "    drop=True)).rename(columns={0: \"Stayed\", 1: \"Churned\"})\n",
    "best_rf_conf_mat\n",
    "\n",
    "\n",
    "\n",
    "# Visualizing the Confusion Matrix\n",
    "f, ax = plt.subplots()\n",
    "sns.heatmap(best_rf_conf_mat,\n",
    "            annot=True,\n",
    "            linewidth=1.0,\n",
    "            fmt=\".0f\",\n",
    "            cmap=\"RdPu\",\n",
    "            ax=ax)\n",
    "plt.show()"
   ]
  },
  {
   "cell_type": "markdown",
   "id": "4f60c2f3",
   "metadata": {},
   "source": [
    "### PREDICTION WITH A BALANCED TEST SET"
   ]
  },
  {
   "cell_type": "code",
   "execution_count": null,
   "id": "59302b68",
   "metadata": {},
   "outputs": [],
   "source": [
    "# Defining the target & predictor variables\n",
    "test_X = test_data.drop(columns=[\"Churn\"])\n",
    "test_y = test_data[\"Churn\"]"
   ]
  },
  {
   "cell_type": "code",
   "execution_count": null,
   "id": "0aae4af0",
   "metadata": {},
   "outputs": [],
   "source": [
    "smote2 = SMOTE(sampling_strategy='minority')\n",
    "X_testsm, y_testsm = smote.fit_resample(test_X, test_y)\n",
    "\n",
    "y_sm.value_counts()"
   ]
  },
  {
   "cell_type": "code",
   "execution_count": null,
   "id": "45059c93",
   "metadata": {},
   "outputs": [],
   "source": [
    "# Predicting the test data\n",
    "sm_pred = rf_smote.predict(X_testsm)"
   ]
  },
  {
   "cell_type": "code",
   "execution_count": null,
   "id": "9f580ab6",
   "metadata": {},
   "outputs": [],
   "source": [
    "# Evaluating the model\n",
    "smtest_report = classification_report(\n",
    "    y_testsm,sm_pred, target_names=[\"Stayed\",\"Churned\"])\n",
    "print(smtest_report)"
   ]
  },
  {
   "cell_type": "code",
   "execution_count": null,
   "id": "2122d4d9",
   "metadata": {},
   "outputs": [],
   "source": [
    "# Calculating the F2 Score\n",
    "f2_score = fbeta_score(y_testsm,sm_pred, beta=0.5)\n",
    "f2_score = \"{:.5f}\".format(f2_score)\n",
    "print(\"F2 Score:\", f2_score)"
   ]
  },
  {
   "cell_type": "code",
   "execution_count": null,
   "id": "5c74f224",
   "metadata": {},
   "outputs": [],
   "source": [
    "# Confusion Matrix\n",
    "conf_mat = confusion_matrix(y_testsm,sm_pred)\n",
    "conf_mat = (pd.DataFrame(conf_mat).reset_index(\n",
    "    drop=True)).rename(columns={0: \"Stayed\", 1: \"Churned\"})\n",
    "conf_mat"
   ]
  },
  {
   "cell_type": "code",
   "execution_count": null,
   "id": "eeb8712b",
   "metadata": {},
   "outputs": [],
   "source": [
    "# Visualizing the Confusion Matrix\n",
    "f, ax = plt.subplots()\n",
    "sns.heatmap(conf_mat,\n",
    "            annot=True,\n",
    "            linewidth=1.0,\n",
    "            fmt=\".0f\",\n",
    "            cmap=\"RdPu\",\n",
    "            ax=ax)\n",
    "plt.show()"
   ]
  },
  {
   "cell_type": "code",
   "execution_count": null,
   "id": "84d40bd4",
   "metadata": {},
   "outputs": [],
   "source": [
    "EXPORTS"
   ]
  },
  {
   "cell_type": "code",
   "execution_count": null,
   "id": "3a11c544",
   "metadata": {},
   "outputs": [],
   "source": [
    "# Exporting the requirements\n",
    "requirements = \"\\n\".join(f\"{m.__name__}=={m.__version__}\" for m in globals().values() if getattr(m, \"__version__\", None))\n",
    "\n",
    "with open(\"requirements.txt\", \"w\") as f:\n",
    "    f.write(requirements)"
   ]
  },
  {
   "cell_type": "code",
   "execution_count": null,
   "id": "5824b817",
   "metadata": {},
   "outputs": [],
   "source": [
    "# Creating a dictionary of objects to export\n",
    "exports = {\"encoder\": Encoded,\n",
    "           \"scaler\":scaler,\n",
    "           \"model\":best_gridrf_model}"
   ]
  },
  {
   "cell_type": "code",
   "execution_count": null,
   "id": "dcd2dc59",
   "metadata": {},
   "outputs": [],
   "source": [
    "# Exporting the dictionary with Pickle\n",
    "with open(\"Gradio_toolkit\", \"wb\") as file:\n",
    "    pickle.dump(exports, file)"
   ]
  },
  {
   "cell_type": "code",
   "execution_count": null,
   "id": "ce58c66f",
   "metadata": {},
   "outputs": [],
   "source": [
    "# Exporting the model\n",
    "best_xgb_model.save_model(\"rf_model.json\")"
   ]
  }
 ],
 "metadata": {
  "kernelspec": {
   "display_name": "Python 3 (ipykernel)",
   "language": "python",
   "name": "python3"
  },
  "language_info": {
   "codemirror_mode": {
    "name": "ipython",
    "version": 3
   },
   "file_extension": ".py",
   "mimetype": "text/x-python",
   "name": "python",
   "nbconvert_exporter": "python",
   "pygments_lexer": "ipython3",
   "version": "3.9.13"
  }
 },
 "nbformat": 4,
 "nbformat_minor": 5
}
